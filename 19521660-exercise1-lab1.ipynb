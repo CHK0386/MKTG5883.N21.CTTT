{
 "cells": [
  {
   "cell_type": "code",
   "execution_count": 1,
   "id": "f1416318-434f-4099-a2fd-0b2a5ee437be",
   "metadata": {},
   "outputs": [
    {
     "data": {
      "text/plain": [
       "2401"
      ]
     },
     "execution_count": 1,
     "metadata": {},
     "output_type": "execute_result"
    }
   ],
   "source": [
    "7 ** 4\n"
   ]
  },
  {
   "cell_type": "code",
   "execution_count": 2,
   "id": "fe7795d8-2769-4024-bb0c-6acc9a4cdd59",
   "metadata": {},
   "outputs": [],
   "source": [
    "s = \"Hi there Sam!\""
   ]
  },
  {
   "cell_type": "code",
   "execution_count": 3,
   "id": "c89bc66b-20f5-4fca-9d64-8c74f26ab5a3",
   "metadata": {},
   "outputs": [
    {
     "name": "stdout",
     "output_type": "stream",
     "text": [
      "['Hi', 'there', 'dad!']\n"
     ]
    }
   ],
   "source": [
    "myList = list(s.split()[:2])\n",
    "myList.append(\"dad!\")\n",
    "print(myList)"
   ]
  },
  {
   "cell_type": "code",
   "execution_count": 4,
   "id": "e16bfb66-fa2a-4234-b415-59f459c835a2",
   "metadata": {},
   "outputs": [],
   "source": [
    "planet = \"Earth\"\n",
    "diameter = 12742"
   ]
  },
  {
   "cell_type": "code",
   "execution_count": 5,
   "id": "e4cd3ab8-da0c-459e-bed4-ddf96953b2a8",
   "metadata": {},
   "outputs": [
    {
     "name": "stdout",
     "output_type": "stream",
     "text": [
      "The diameter of Earth is 12742 km\n"
     ]
    }
   ],
   "source": [
    "print(\"The diameter of {one} is {two} km\".format(one=planet,two=diameter))"
   ]
  },
  {
   "cell_type": "code",
   "execution_count": 6,
   "id": "355a36b3-a2ff-438f-8f77-c400e73e156e",
   "metadata": {},
   "outputs": [],
   "source": [
    "lst = [1,2,[3,4],[5,[100,200,[\"Hello\"]],23,11],1,7]"
   ]
  },
  {
   "cell_type": "code",
   "execution_count": 7,
   "id": "3efa5791-c54e-4c4e-99c0-d30baf92c66e",
   "metadata": {},
   "outputs": [
    {
     "name": "stdout",
     "output_type": "stream",
     "text": [
      "['Hello']\n"
     ]
    }
   ],
   "source": [
    "print(lst[3][1][2])"
   ]
  },
  {
   "cell_type": "code",
   "execution_count": 8,
   "id": "dd39febd-3327-4bf4-9507-c3c02ee6a163",
   "metadata": {},
   "outputs": [],
   "source": [
    "d = {\"k1\": [1,2,3,{\"tricky\":[\"oh\", \"man\", \"inception\", {\"target\":[1,2,3,\"hello\"]}]}]}"
   ]
  },
  {
   "cell_type": "code",
   "execution_count": 9,
   "id": "e57009ae-52ac-4916-af9a-bd3fc5187a6d",
   "metadata": {},
   "outputs": [
    {
     "data": {
      "text/plain": [
       "'hello'"
      ]
     },
     "execution_count": 9,
     "metadata": {},
     "output_type": "execute_result"
    }
   ],
   "source": [
    "d[\"k1\"][3][\"tricky\"][3][\"target\"][3]"
   ]
  },
  {
   "cell_type": "code",
   "execution_count": 10,
   "id": "c681d719-62e8-4303-92a6-80b275b66db1",
   "metadata": {},
   "outputs": [],
   "source": [
    "def getEmailDomain(email):\n",
    "    return email.split('@')[1]"
   ]
  },
  {
   "cell_type": "code",
   "execution_count": 11,
   "id": "964108db-6297-4a12-a787-5181c5c936d7",
   "metadata": {},
   "outputs": [
    {
     "data": {
      "text/plain": [
       "'gm.uit.edu.vn'"
      ]
     },
     "execution_count": 11,
     "metadata": {},
     "output_type": "execute_result"
    }
   ],
   "source": [
    "getEmailDomain(\"19521660@gm.uit.edu.vn\")"
   ]
  },
  {
   "cell_type": "code",
   "execution_count": 12,
   "id": "b2de67c2-ae77-4c72-9e35-34fd79d4740b",
   "metadata": {},
   "outputs": [
    {
     "data": {
      "text/plain": [
       "'domain.com'"
      ]
     },
     "execution_count": 12,
     "metadata": {},
     "output_type": "execute_result"
    }
   ],
   "source": [
    "getEmailDomain(\"user@domain.com\")"
   ]
  },
  {
   "cell_type": "code",
   "execution_count": 13,
   "id": "caa6576b-1f15-4b98-a9f5-511dca778bf8",
   "metadata": {},
   "outputs": [],
   "source": [
    "def containDog(sentence):\n",
    "    dogWord = \"dog\"\n",
    "    \n",
    "    # sanitize sentence\n",
    "    sanitizeSentence = sentence.lower()\n",
    "    \n",
    "    return dogWord in sanitizeSentence"
   ]
  },
  {
   "cell_type": "code",
   "execution_count": 14,
   "id": "f2ebfe28-c6b4-4c2d-a833-6a75edbabc11",
   "metadata": {},
   "outputs": [
    {
     "data": {
      "text/plain": [
       "True"
      ]
     },
     "execution_count": 14,
     "metadata": {},
     "output_type": "execute_result"
    }
   ],
   "source": [
    "containDog(\"This is a Dog\")"
   ]
  },
  {
   "cell_type": "code",
   "execution_count": 15,
   "id": "a4565142-bd45-4fd6-8d2a-9ab86e24e19f",
   "metadata": {},
   "outputs": [
    {
     "data": {
      "text/plain": [
       "True"
      ]
     },
     "execution_count": 15,
     "metadata": {},
     "output_type": "execute_result"
    }
   ],
   "source": [
    "containDog(\"This is a DOG\")"
   ]
  },
  {
   "cell_type": "code",
   "execution_count": 16,
   "id": "58cf9351-d21e-4fe6-929a-15a283261ef3",
   "metadata": {},
   "outputs": [],
   "source": [
    "def countDogWord(sentence):\n",
    "    return sentence.lower().count(\"dog\")"
   ]
  },
  {
   "cell_type": "code",
   "execution_count": 17,
   "id": "789355f8-94c2-45c4-b978-b04e055f12d3",
   "metadata": {},
   "outputs": [
    {
     "data": {
      "text/plain": [
       "2"
      ]
     },
     "execution_count": 17,
     "metadata": {},
     "output_type": "execute_result"
    }
   ],
   "source": [
    "countDogWord(\"This dog runs faster than the other dog dude!\")"
   ]
  },
  {
   "cell_type": "markdown",
   "id": "0e52f218-5d84-42d7-8163-4c2d273707f5",
   "metadata": {},
   "source": [
    "Final Problem"
   ]
  },
  {
   "cell_type": "code",
   "execution_count": 18,
   "id": "96513bd4-e354-40ca-a551-48662b1d64f8",
   "metadata": {},
   "outputs": [],
   "source": [
    "def speedRate(speed, isBirthday):\n",
    "    bufferRate = 0 if (isBirthday == False) else 5\n",
    "    \n",
    "    if (speed <= 60 + bufferRate):\n",
    "        return \"No Ticket\"\n",
    "    elif (61 + bufferRate <= speed <= 80 + bufferRate):\n",
    "        return \"Small Ticket\"\n",
    "    else:\n",
    "        return \"Big Ticket\"\n",
    "    "
   ]
  },
  {
   "cell_type": "code",
   "execution_count": 19,
   "id": "c25bbb63-ecdc-46ab-a953-9c8c935f6b8a",
   "metadata": {},
   "outputs": [
    {
     "data": {
      "text/plain": [
       "'Small Ticket'"
      ]
     },
     "execution_count": 19,
     "metadata": {},
     "output_type": "execute_result"
    }
   ],
   "source": [
    "speedRate(81, True)"
   ]
  },
  {
   "cell_type": "code",
   "execution_count": null,
   "id": "0c2efa7f-311c-4e95-888f-95e06bf77c86",
   "metadata": {},
   "outputs": [],
   "source": []
  }
 ],
 "metadata": {
  "kernelspec": {
   "display_name": "Python 3 (ipykernel)",
   "language": "python",
   "name": "python3"
  },
  "language_info": {
   "codemirror_mode": {
    "name": "ipython",
    "version": 3
   },
   "file_extension": ".py",
   "mimetype": "text/x-python",
   "name": "python",
   "nbconvert_exporter": "python",
   "pygments_lexer": "ipython3",
   "version": "3.9.13"
  }
 },
 "nbformat": 4,
 "nbformat_minor": 5
}
